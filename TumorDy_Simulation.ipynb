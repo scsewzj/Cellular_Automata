{
 "cells": [
  {
   "cell_type": "code",
   "execution_count": 6,
   "metadata": {},
   "outputs": [],
   "source": [
    "from TumorDynamics import set_cellparam, main_GUICA\n",
    "# KEYS = ['CCT', 'dtp' , 'u', 'dtu', 'Pa', 'Pps', 'pmax']"
   ]
  },
  {
   "cell_type": "code",
   "execution_count": 7,
   "metadata": {},
   "outputs": [],
   "source": [
    "#set_cellparam('RTC', 'Pa', 0.3)\n",
    "#set_cellparam('TSTC', 'Pps', 0.01)\n",
    "#set_cellparam('RTC', 'u', 1)\n",
    "#set_cellparam('STC', 'u', 1)\n",
    "#set_cellparam('TSTC', 'u', 1)\n"
   ]
  },
  {
   "cell_type": "code",
   "execution_count": null,
   "metadata": {},
   "outputs": [
    {
     "name": "stderr",
     "output_type": "stream",
     "text": [
      "CA Step: 100%|\u001b[38;2;61;140;64m█████████████████████████████████████████████████████████████████\u001b[0m | 50/50 [00:00<00:00, 91.66it/s]\n"
     ]
    }
   ],
   "source": [
    "main_GUICA(maxtime=50, gridsize=50, outfile='./scenario1.log')"
   ]
  },
  {
   "cell_type": "code",
   "execution_count": null,
   "metadata": {},
   "outputs": [],
   "source": []
  }
 ],
 "metadata": {
  "kernelspec": {
   "display_name": "Python 3",
   "language": "python",
   "name": "python3"
  },
  "language_info": {
   "codemirror_mode": {
    "name": "ipython",
    "version": 3
   },
   "file_extension": ".py",
   "mimetype": "text/x-python",
   "name": "python",
   "nbconvert_exporter": "python",
   "pygments_lexer": "ipython3",
   "version": "3.12.9"
  }
 },
 "nbformat": 4,
 "nbformat_minor": 2
}
