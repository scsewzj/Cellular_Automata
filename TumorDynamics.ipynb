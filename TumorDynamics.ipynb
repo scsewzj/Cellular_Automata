{
 "cells": [
  {
   "cell_type": "code",
   "execution_count": 3,
   "metadata": {},
   "outputs": [],
   "source": [
    "from cellularautomata import GuiCA, CountType"
   ]
  },
  {
   "cell_type": "code",
   "execution_count": null,
   "metadata": {},
   "outputs": [],
   "source": [
    "import numpy as np\n",
    "# ** CELLULAR AUTOMATA - FOREST FIRE\n",
    "# ** Author: Franck Delaplace\n",
    "# ** MASTER TUTORIAL\n",
    "# ** Paris Saclay University\n",
    "\n",
    "# The simulation studies the spread of a fire in a forest.\n",
    "# If a tree catches fire, there is a certain probability that neighboring trees will also burn. (e.g. 0.2).\n",
    "# The probability that a tree will be on fire is proportional to the number of neighboring burning trees.\n",
    "# After a certain time, a burning tree turns to ash.\n",
    "from cellularautomata import CountType, GuiCA\n",
    "from random import random\n",
    "\n",
    "TFIRE: int = 7           # Fire period before turning to ash.\n",
    "ONFIRE: float = 0.2      # Probability to be on fire.\n",
    "\n",
    "def FoF(cell, neighbors: list):\n",
    "    category, time = cell\n",
    "    match category:\n",
    "        case 'Tree':\n",
    "            if random() < CountType(neighbors, 'Fire') * ONFIRE:\n",
    "                return ('Fire', TFIRE)\n",
    "            else:\n",
    "                return cell\n",
    "        case 'Fire':\n",
    "            if time == 0:\n",
    "                return ('Ash', None)\n",
    "            else:\n",
    "                return ('Fire', int(time) - 1)\n",
    "        case _:\n",
    "            return cell\n",
    "        \n",
    "def Test_global_fn(cells):\n",
    "    n = len(cells)\n",
    "    canew = np.array(\n",
    "            [[cells[0,0] for j in range(n)] for k in range(n)]\n",
    "        ) \n",
    "    return canew\n",
    "\n",
    "\n",
    "# Main program ============================================================\n",
    "\n",
    "cellcolors = {   # color assigned to cells in their initial states.\n",
    "    ('Soil', None): 'white',\n",
    "    ('Tree', None): 'forestgreen',\n",
    "    ('Fire', TFIRE): 'crimson',\n",
    "    ('Ash', None): 'darkgray'}\n",
    "\n",
    "GuiCA(FoF, cellcolors)\n"
   ]
  },
  {
   "cell_type": "code",
   "execution_count": 6,
   "metadata": {},
   "outputs": [],
   "source": [
    "# ** CELLULAR AUTOMATA - Tumor Dynamics\n",
    "# ** Author: Zhouji WU\n",
    "# ** MASTER SOURCE\n",
    "# ** Paris Saclay University\n",
    "\n",
    "\n",
    "cellcolors = {\n",
    "    ('Empty', None): 'white',\n",
    "    ('RTC',''):'Red',\n",
    "    ('STC',''):'Brown'\n",
    "}\n",
    "\n",
    "\"\"\"\n",
    "TC (RTC or STC) = {\n",
    "    'STC': True/False,\n",
    "    'True_Stem': True/False,\n",
    "    'CCT': Int,\n",
    "    'Pp' = CCT*dt/24, (0,1),\n",
    "    'u' = float,\n",
    "    'pu' = u*dt, (0,1),\n",
    "    'Pa' = float(0,1),\n",
    "    'Ps' = float(0,1), # very low\n",
    "    'pmax' = Int\n",
    "    \n",
    "}\n",
    "\"\"\"\n",
    "\n",
    "## Attributes: Pa, Pp, Pu, Pi, CCT, u, Ps, pmax\n",
    "def Attr_dic2str(attr_dic):\n",
    "    str_attr = ''\n",
    "    for key in attr_dic:\n",
    "        str_attr += str(attr_dic[key]) + ', '\n",
    "    return str_attr[:-2]\n",
    "\n",
<<<<<<< HEAD
    "def Attr_str2dic(attr_str):\n",
    "    keys = ['STC', 'True_Stem', 'CCT', 'dtp' ,'Pp', 'u', 'dtu', 'pu', 'Pa', 'Ps', 'pmax']\n",
=======
    "def attr_str2dic(attr_str):\n",
    "    keys = ['STC', 'True_Stem', 'CCT', 'dtp' ,'Pp', 'u', 'dtu', 'pu', 'Pa', 'Ps', 'p_num']\n",
>>>>>>> b60d9f52c2b81b93f1b1f999713074bcfea77bb4
    "    \n",
    "    attr_dic = {}\n",
    "    attrs = attr_str.split(',')\n",
    "    for i in range(len(attrs)):\n",
    "        attr = attrs[i].strip()\n",
    "        attr_dic[keys[i]] = attr\n",
    "    return attr_dic\n",
    "    "
   ]
  },
  {
   "cell_type": "code",
   "execution_count": null,
   "metadata": {},
   "outputs": [
    {
     "data": {
      "text/plain": [
       "True"
      ]
     },
     "execution_count": 5,
     "metadata": {},
     "output_type": "execute_result"
    }
   ],
   "source": []
  },
  {
   "cell_type": "code",
   "execution_count": null,
   "metadata": {},
   "outputs": [],
   "source": [
    "teststr = 'True, True, 0, 0, 0.5, 0.5, 0.5, 0.5, 0.5, 0.5, 10'\n",
    "attr_dic2str(attr_str2dic(teststr)) == teststr"
   ]
  },
  {
   "cell_type": "code",
   "execution_count": null,
   "metadata": {},
   "outputs": [],
   "source": [
    "from random import random\n",
    "def Apoptosis(category, attr_str):\n",
    "    attr = attr_str2dic(attr_str)\n",
    "    if category == 'RTC':\n",
    "        if random()<attr['Pa']:\n",
    "            return ('Empty', None)\n",
    "    elif category == 'STC':\n",
    "        if attr['True_Stem'] == False:\n",
    "            if random()<attr['Pa']:\n",
    "                return ('Empty', None)\n",
    "        \n",
    "def Proliferation(category, attr_str):\n",
    "    attr = attr_str2dic(attr_str)\n",
    "    if category == 'RTC':\n",
    "        if random()<attr['Pp']:\n",
    "            attr['p_num'] -= 1\n",
    "            return ('RTC', attr_str)\n",
    "        \"\"\" TODO: roll a random,\n",
    "        if smaller than Pp, proliferate, --> p_num -1 and check whether p_num == 0, if yes, kill it\n",
    "        otherwise, return the same cell\n",
    "        \"\"\"\n",
    "    if category == 'STC':\n",
    "        pass\n",
    "\n",
    "def Migration(category, attr_str):\n",
    "    attr = attr_str2dic(attr_str)\n",
    "    pass\n",
    "\n",
    "def Quiescence(category, attr_str):\n",
    "    attr = attr_str2dic(attr_str)\n",
    "    pass\n",
    "\n",
    "def Prob_p(CCT, dtp):\n",
    "    return CCT*dtp/24\n",
    "def Prob_u(u, dtu):\n",
    "    return u*dtu\n",
    "\n",
    "        "
   ]
  },
  {
   "cell_type": "code",
   "execution_count": null,
   "metadata": {},
   "outputs": [],
   "source": [
    "## For proliferation and migration, put flag on neighbor cell where to put a cell\n",
    "## Use global function to deal with conflict\n",
    "## choose the one with highest priority\n",
    "## priority: Rep(T_STC) 6 > Rep(C_STC) 5 > Mig(T_STC) 4 > Mig(C_STC) 3 > Rep(RTC) 2 > Mig(RTC) 1\n",
    "## delete other flags and modify the mother cell"
   ]
  },
  {
   "cell_type": "code",
   "execution_count": null,
   "metadata": {},
   "outputs": [],
   "source": [
    "def global_conflict_resolve(cells):\n",
    "    n = len(cells)\n",
    "    for i in range(n):\n",
    "        for j in range(n):\n",
    "            if cells[i,j][0] == 'Empty':\n",
    "                flags = cells[i,j][1]\n",
    "                \"\"\"\n",
    "                flags = (priority, op_type, cell_pos)\n",
    "                \"\"\"\n",
    "                if len(flags) == 1:\n",
    "                    flag = flags[0]\n",
    "                    # execute the only one\n",
    "                if len(flags) > 1:\n",
    "                    # only the highest priority will be executed\n",
    "                    pri = [k[0] for k in flags]\n",
    "                    index_max = pri.index(max(pri))\n",
    "                    flag = flags[index_max]\n",
    "                # flag_exection(flag)\n",
    "    return cells\n",
    "\n",
    "\n",
    "def execute_flag(flag, cells):\n",
    "    #\n",
    "    return cells"
   ]
  }
 ],
 "metadata": {
  "kernelspec": {
   "display_name": "Python 3",
   "language": "python",
   "name": "python3"
  },
  "language_info": {
   "codemirror_mode": {
    "name": "ipython",
    "version": 3
   },
   "file_extension": ".py",
   "mimetype": "text/x-python",
   "name": "python",
   "nbconvert_exporter": "python",
   "pygments_lexer": "ipython3",
<<<<<<< HEAD
   "version": "3.12.9"
=======
   "version": "3.13.2"
>>>>>>> b60d9f52c2b81b93f1b1f999713074bcfea77bb4
  }
 },
 "nbformat": 4,
 "nbformat_minor": 2
}
